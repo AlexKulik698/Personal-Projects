{
 "cells": [
  {
   "cell_type": "code",
   "execution_count": 2,
   "metadata": {},
   "outputs": [],
   "source": [
    "import requests\n",
    "import pandas as pd\n",
    "import json\n",
    "from datetime import datetime, timedelta\n",
    "import time\n",
    "import tkinter as tk\n",
    "from tkinter import messagebox\n",
    "import statistics"
   ]
  },
  {
   "cell_type": "code",
   "execution_count": 3,
   "metadata": {},
   "outputs": [
    {
     "data": {
      "text/plain": [
       "''"
      ]
     },
     "execution_count": 3,
     "metadata": {},
     "output_type": "execute_result"
    }
   ],
   "source": [
    "#Root function creates a message box that creates an alert when market conditions are met\n",
    "root = tk.Tk()\n",
    "root.withdraw()"
   ]
  },
  {
   "cell_type": "code",
   "execution_count": 4,
   "metadata": {},
   "outputs": [
    {
     "name": "stdout",
     "output_type": "stream",
     "text": [
      "Please enter the exact ticker name that you would like to track AAPL\n"
     ]
    }
   ],
   "source": [
    "#API code is provided free by Alphavantage, it is limited to 5 requests a minute.\n",
    "#Having a premium API key can allow us to watchlist multiple stocks at the same time.\n",
    "api_key = '1G3JSDK3B4WMKWE'\n",
    "\n",
    "#Stock that you would like to watch is created by input or can be hard coded into the script. \n",
    "#You can use both Upper and lower case letters.\n",
    "symbol = input('Please enter the exact ticker name that you would like to track ').upper()\n",
    "interval = 'daily_adjusted'\n",
    "\n",
    "#Price tolerance is a threshold percentage of how much higher can price be than the 50 day moving average before alert is triggered.\n",
    "#Volume tolerance is a threshold percentage of how much higher can volume spike above average daily volume before alert is triggered.\n",
    "price_tolerance = 1.6\n",
    "volume_tolerance = 1.4\n",
    "\n",
    "#Alphavantage API provides multiple functions, to see more visit: \"https://www.alphavantage.co/documentation/\"\n",
    "url = f'https://www.alphavantage.co/query?function=TIME_SERIES_{interval}&symbol={symbol}&apikey={api_key}'\n",
    "\n",
    "response = requests.get(url)\n",
    "data = json.loads(response.text)"
   ]
  },
  {
   "cell_type": "code",
   "execution_count": 6,
   "metadata": {},
   "outputs": [
    {
     "data": {
      "text/html": [
       "<div>\n",
       "<style scoped>\n",
       "    .dataframe tbody tr th:only-of-type {\n",
       "        vertical-align: middle;\n",
       "    }\n",
       "\n",
       "    .dataframe tbody tr th {\n",
       "        vertical-align: top;\n",
       "    }\n",
       "\n",
       "    .dataframe thead th {\n",
       "        text-align: right;\n",
       "    }\n",
       "</style>\n",
       "<table border=\"1\" class=\"dataframe\">\n",
       "  <thead>\n",
       "    <tr style=\"text-align: right;\">\n",
       "      <th></th>\n",
       "      <th>1. open</th>\n",
       "      <th>2. high</th>\n",
       "      <th>3. low</th>\n",
       "      <th>4. close</th>\n",
       "      <th>5. adjusted close</th>\n",
       "      <th>6. volume</th>\n",
       "      <th>7. dividend amount</th>\n",
       "      <th>8. split coefficient</th>\n",
       "    </tr>\n",
       "  </thead>\n",
       "  <tbody>\n",
       "    <tr>\n",
       "      <th>2023-03-30</th>\n",
       "      <td>161.53</td>\n",
       "      <td>162.47</td>\n",
       "      <td>161.27</td>\n",
       "      <td>162.36</td>\n",
       "      <td>162.36</td>\n",
       "      <td>49459330</td>\n",
       "      <td>0.0000</td>\n",
       "      <td>1.0</td>\n",
       "    </tr>\n",
       "    <tr>\n",
       "      <th>2023-03-29</th>\n",
       "      <td>159.37</td>\n",
       "      <td>161.05</td>\n",
       "      <td>159.35</td>\n",
       "      <td>160.77</td>\n",
       "      <td>160.77</td>\n",
       "      <td>51305691</td>\n",
       "      <td>0.0000</td>\n",
       "      <td>1.0</td>\n",
       "    </tr>\n",
       "    <tr>\n",
       "      <th>2023-03-28</th>\n",
       "      <td>157.97</td>\n",
       "      <td>158.49</td>\n",
       "      <td>155.98</td>\n",
       "      <td>157.65</td>\n",
       "      <td>157.65</td>\n",
       "      <td>45992152</td>\n",
       "      <td>0.0000</td>\n",
       "      <td>1.0</td>\n",
       "    </tr>\n",
       "    <tr>\n",
       "      <th>2023-03-27</th>\n",
       "      <td>159.94</td>\n",
       "      <td>160.77</td>\n",
       "      <td>157.87</td>\n",
       "      <td>158.28</td>\n",
       "      <td>158.28</td>\n",
       "      <td>52390266</td>\n",
       "      <td>0.0000</td>\n",
       "      <td>1.0</td>\n",
       "    </tr>\n",
       "    <tr>\n",
       "      <th>2023-03-24</th>\n",
       "      <td>158.86</td>\n",
       "      <td>160.34</td>\n",
       "      <td>157.85</td>\n",
       "      <td>160.25</td>\n",
       "      <td>160.25</td>\n",
       "      <td>59256343</td>\n",
       "      <td>0.0000</td>\n",
       "      <td>1.0</td>\n",
       "    </tr>\n",
       "    <tr>\n",
       "      <th>2023-03-23</th>\n",
       "      <td>158.83</td>\n",
       "      <td>161.5501</td>\n",
       "      <td>157.68</td>\n",
       "      <td>158.93</td>\n",
       "      <td>158.93</td>\n",
       "      <td>67622060</td>\n",
       "      <td>0.0000</td>\n",
       "      <td>1.0</td>\n",
       "    </tr>\n",
       "    <tr>\n",
       "      <th>2023-03-22</th>\n",
       "      <td>159.3</td>\n",
       "      <td>162.14</td>\n",
       "      <td>157.81</td>\n",
       "      <td>157.83</td>\n",
       "      <td>157.83</td>\n",
       "      <td>75701811</td>\n",
       "      <td>0.0000</td>\n",
       "      <td>1.0</td>\n",
       "    </tr>\n",
       "  </tbody>\n",
       "</table>\n",
       "</div>"
      ],
      "text/plain": [
       "           1. open   2. high  3. low 4. close 5. adjusted close 6. volume  \\\n",
       "2023-03-30  161.53    162.47  161.27   162.36            162.36  49459330   \n",
       "2023-03-29  159.37    161.05  159.35   160.77            160.77  51305691   \n",
       "2023-03-28  157.97    158.49  155.98   157.65            157.65  45992152   \n",
       "2023-03-27  159.94    160.77  157.87   158.28            158.28  52390266   \n",
       "2023-03-24  158.86    160.34  157.85   160.25            160.25  59256343   \n",
       "2023-03-23  158.83  161.5501  157.68   158.93            158.93  67622060   \n",
       "2023-03-22   159.3    162.14  157.81   157.83            157.83  75701811   \n",
       "\n",
       "           7. dividend amount 8. split coefficient  \n",
       "2023-03-30             0.0000                  1.0  \n",
       "2023-03-29             0.0000                  1.0  \n",
       "2023-03-28             0.0000                  1.0  \n",
       "2023-03-27             0.0000                  1.0  \n",
       "2023-03-24             0.0000                  1.0  \n",
       "2023-03-23             0.0000                  1.0  \n",
       "2023-03-22             0.0000                  1.0  "
      ]
     },
     "execution_count": 6,
     "metadata": {},
     "output_type": "execute_result"
    }
   ],
   "source": [
    "# Extract the monthly time series data\n",
    "data = response.json()[f\"Time Series (Daily)\"]\n",
    "df = pd.DataFrame.from_dict(data, orient=\"index\")\n",
    "df.index = pd.to_datetime(df.index)\n",
    "\n",
    "df.head(7)"
   ]
  },
  {
   "cell_type": "code",
   "execution_count": 9,
   "metadata": {},
   "outputs": [],
   "source": [
    "# Calculating 50 day moving average of the stock ending with the current date.\n",
    "moving_avg = df['4. close'][::-1].rolling(window=50).mean()\n",
    "m_avg=float(moving_avg.tail(1))"
   ]
  },
  {
   "cell_type": "code",
   "execution_count": 10,
   "metadata": {},
   "outputs": [],
   "source": [
    "# Calculating average 50 day volume to compare against the current day's volume.\n",
    "volume=list(df['6. volume'][:50])\n",
    "volume_avg = 0\n",
    "for i in volume:\n",
    "    volume_avg += int(i)\n",
    "volume_avg = int(volume_avg/50)\n",
    "volume_spike_tolerance = volume_avg*volume_tolerance"
   ]
  },
  {
   "cell_type": "code",
   "execution_count": 11,
   "metadata": {},
   "outputs": [
    {
     "name": "stdout",
     "output_type": "stream",
     "text": [
      "{'Global Quote': {'01. symbol': 'AAPL', '02. open': '161.5300', '03. high': '162.4700', '04. low': '161.2700', '05. price': '162.3600', '06. volume': '49459330', '07. latest trading day': '2023-03-30', '08. previous close': '160.7700', '09. change': '1.5900', '10. change percent': '0.9890%'}}\n"
     ]
    }
   ],
   "source": [
    "# API request to get the current quote on volume and price of a stock\n",
    "url = f'https://www.alphavantage.co/query?function=GLOBAL_QUOTE&symbol={symbol}&apikey={api_key}'\n",
    "response=requests.get(url)\n",
    "quote=json.loads(response.text)\n",
    "print(quote)"
   ]
  },
  {
   "cell_type": "code",
   "execution_count": null,
   "metadata": {},
   "outputs": [
    {
     "name": "stdout",
     "output_type": "stream",
     "text": [
      "Current AAPL stock price: $162.3600\n"
     ]
    }
   ],
   "source": [
    "while True:\n",
    "    # Make a request to the API\n",
    "    response = requests.get(url)\n",
    "\n",
    "    # Parse the JSON response\n",
    "    quote = json.loads(response.text)\n",
    "\n",
    "    # Get the latest stock price\n",
    "    current_price = quote ['Global Quote']['05. price']\n",
    "    volume_quote = quote ['Global Quote']['06. volume']\n",
    "\n",
    "    # Print the latest stock price\n",
    "    print(f'Current {symbol} stock price: ${current_price}')\n",
    "\n",
    "    #Warning if the current price is higher than the moving average by over 40%, \n",
    "    #as well as volume spike is above 40% of the 50 day average.\n",
    "    if float(current_price)*price_tolerance>=m_avg and volume_quote>=volume_spike_tolerance:\n",
    "        messagebox.showinfo(\"Alert\", \"Squeeze is Happening\")\n",
    "        break\n",
    "\n",
    "    # Wait for 1 minute before making the next request\n",
    "    time.sleep(60)"
   ]
  }
 ],
 "metadata": {
  "kernelspec": {
   "display_name": "Python 3 (ipykernel)",
   "language": "python",
   "name": "python3"
  },
  "language_info": {
   "codemirror_mode": {
    "name": "ipython",
    "version": 3
   },
   "file_extension": ".py",
   "mimetype": "text/x-python",
   "name": "python",
   "nbconvert_exporter": "python",
   "pygments_lexer": "ipython3",
   "version": "3.9.7"
  },
  "vscode": {
   "interpreter": {
    "hash": "497338f01161d141240caa60efca5087225791fadc9b7c964beb65d863e046f0"
   }
  }
 },
 "nbformat": 4,
 "nbformat_minor": 2
}
